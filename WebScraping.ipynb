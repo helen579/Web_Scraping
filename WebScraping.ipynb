{
 "cells": [
  {
   "cell_type": "code",
   "execution_count": 1,
   "id": "1928d5c1",
   "metadata": {},
   "outputs": [
    {
     "ename": "ModuleNotFoundError",
     "evalue": "No module named 'connect'",
     "output_type": "error",
     "traceback": [
      "\u001b[1;31m---------------------------------------------------------------------------\u001b[0m",
      "\u001b[1;31mModuleNotFoundError\u001b[0m                       Traceback (most recent call last)",
      "\u001b[1;32m<ipython-input-1-09f92e12f4c0>\u001b[0m in \u001b[0;36m<module>\u001b[1;34m\u001b[0m\n\u001b[0;32m      4\u001b[0m \u001b[1;32mimport\u001b[0m \u001b[0mpandas\u001b[0m\u001b[1;33m\u001b[0m\u001b[1;33m\u001b[0m\u001b[0m\n\u001b[0;32m      5\u001b[0m \u001b[1;32mimport\u001b[0m \u001b[0margparse\u001b[0m\u001b[1;33m\u001b[0m\u001b[1;33m\u001b[0m\u001b[0m\n\u001b[1;32m----> 6\u001b[1;33m \u001b[1;32mimport\u001b[0m \u001b[0mconnect\u001b[0m\u001b[1;33m\u001b[0m\u001b[1;33m\u001b[0m\u001b[0m\n\u001b[0m",
      "\u001b[1;31mModuleNotFoundError\u001b[0m: No module named 'connect'"
     ]
    }
   ],
   "source": [
    "#Importing modules\n",
    "import requests  #To get the webpage content\n",
    "from bs4 import BeautifulSoup  #To parse the HTML code\n",
    "import pandas \n",
    "import argparse \n",
    "import connect\n"
   ]
  },
  {
   "cell_type": "code",
   "execution_count": 2,
   "id": "1f16ec61",
   "metadata": {},
   "outputs": [
    {
     "ename": "NameError",
     "evalue": "name 'connect' is not defined",
     "output_type": "error",
     "traceback": [
      "\u001b[1;31m---------------------------------------------------------------------------\u001b[0m",
      "\u001b[1;31mNameError\u001b[0m                                 Traceback (most recent call last)",
      "\u001b[1;32m<ipython-input-2-67f9a16017b9>\u001b[0m in \u001b[0;36m<module>\u001b[1;34m\u001b[0m\n\u001b[0;32m      7\u001b[0m \u001b[0mpage_num_MAX\u001b[0m \u001b[1;33m=\u001b[0m \u001b[0margs\u001b[0m\u001b[1;33m.\u001b[0m\u001b[0mpage_num_max\u001b[0m\u001b[1;33m\u001b[0m\u001b[1;33m\u001b[0m\u001b[0m\n\u001b[0;32m      8\u001b[0m \u001b[0mscraped_info_list\u001b[0m \u001b[1;33m=\u001b[0m \u001b[1;33m[\u001b[0m\u001b[1;33m]\u001b[0m\u001b[1;33m\u001b[0m\u001b[1;33m\u001b[0m\u001b[0m\n\u001b[1;32m----> 9\u001b[1;33m \u001b[0mconnect\u001b[0m\u001b[1;33m.\u001b[0m\u001b[0mconnect\u001b[0m\u001b[1;33m(\u001b[0m\u001b[0margs\u001b[0m\u001b[1;33m.\u001b[0m\u001b[0mdbname\u001b[0m\u001b[1;33m)\u001b[0m\u001b[1;33m\u001b[0m\u001b[1;33m\u001b[0m\u001b[0m\n\u001b[0m\u001b[0;32m     10\u001b[0m \u001b[1;33m\u001b[0m\u001b[0m\n\u001b[0;32m     11\u001b[0m \u001b[1;32mfor\u001b[0m \u001b[0mpage_num\u001b[0m \u001b[1;32min\u001b[0m \u001b[0mrange\u001b[0m\u001b[1;33m(\u001b[0m\u001b[1;36m1\u001b[0m\u001b[1;33m,\u001b[0m \u001b[0mpage_num_MAX\u001b[0m\u001b[1;33m)\u001b[0m\u001b[1;33m:\u001b[0m\u001b[1;33m\u001b[0m\u001b[1;33m\u001b[0m\u001b[0m\n",
      "\u001b[1;31mNameError\u001b[0m: name 'connect' is not defined"
     ]
    }
   ],
   "source": [
    "parser = argparse.ArgumentParser()\n",
    "parser.add_argument(\"--page_num_max\", help = \"Enter the number of pages to parse\", type = int)\n",
    "parser.add_argument(\"--dbname\", help = \"Enter the number of pages to parse\", type = int)\n",
    "args, unknown = parser.parse_known_args()\n",
    "\n",
    "oyo_url = \"https://www.oyorooms.com/hotels-in-bangalore/?page=\"\n",
    "page_num_MAX = args.page_num_max\n",
    "scraped_info_list = []\n",
    "connect.connect(args.dbname)\n",
    "\n",
    "for page_num in range(1, page_num_MAX):\n",
    "  url = oyo_url + str(page_num)\n",
    "  \n",
    "  req = requests.get(url)\n",
    "  content = req.content\n",
    "    \n",
    "  soup = BeautifulSoup(content, \"html.parser\")\n",
    "\n",
    "  all_hotels = soup.find_all(\"div\", {\"class\": \"hotelCardListing\"})\n",
    "\n",
    "  for hotel in all_hotels:\n",
    "      hotel_dict = {}\n",
    "      hotel_dict[\"name\"] = hotel.find(\"h3\", {\"class\": \"ListingHotelDescription_hotelName\"}).text\n",
    "      hotel_dict[\"address\"] = house.find(\"span\", {\"intemprop\": \"streetAddress\"}).text\n",
    "      hotel_dict[\"price\"] = hotel.find(\"span\", {\"class\": \"listingPrice__finalPrice\"}).text\n",
    "\n",
    "      #try ..... except\n",
    "      try:\n",
    "          hotel_dict[\"rating\"] = hotel.find(\"span\", {\"class\": \"hotelRating__ratingSummary\"}).text                                                                                      \n",
    "      except AttributeError:\n",
    "        pass\n",
    "        #hotel_dict[\"rating\"] = None Use this if an error related to values is faced\n",
    "\n",
    "      parent_amenities_element = hotel.find(\"div\", {\"class\": \"amenityWrapper\"})\n",
    "\n",
    "      amenities_list = []\n",
    "      for amenity in parent_amenities_element.find_all(\"div\", {\"class\": \"amenityWrapper_amenity\"}):\n",
    "        amenities_list.append(amenity.find(\"span\", {\"class\": \"d-body-sm\"}).text.strip())\n",
    "\n",
    "      hotel_dict[\"amenities\"] = ', '.join(amenities_list[:-1]) #Joining and slicing the dictionary elements\n",
    "    \n",
    "      scraped_info_list.append(hotel_dict)\n",
    "      connect.insert_into_table(args.dbname, tuple(hote_dict.values()))\n",
    "      \n",
    "      #print(hotel_name, hotel_address, hotel_price, hotel_rating, amenities_list)\n",
    "\n",
    "dataFrame = pandas.DataFrame(scraped_info_list)\n",
    "dataFrame.to_csv(\"Oyo.csv\")\n",
    "connect.get_hotel_info(args.dbname)"
   ]
  }
 ],
 "metadata": {
  "kernelspec": {
   "display_name": "Python 3",
   "language": "python",
   "name": "python3"
  },
  "language_info": {
   "codemirror_mode": {
    "name": "ipython",
    "version": 3
   },
   "file_extension": ".py",
   "mimetype": "text/x-python",
   "name": "python",
   "nbconvert_exporter": "python",
   "pygments_lexer": "ipython3",
   "version": "3.8.8"
  }
 },
 "nbformat": 4,
 "nbformat_minor": 5
}
